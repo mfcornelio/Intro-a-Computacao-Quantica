{
 "cells": [
  {
   "attachments": {},
   "cell_type": "markdown",
   "metadata": {},
   "source": [
    "# Exercício 3: Estados emaranhados\n",
    "\n",
    "\n",
    "__Objetivos:__  Ao completar esta sequência de tarefas, o estudante será capaz de:\n",
    "\n",
    "* Manipular estados emaranhados de 2 q-bits\n",
    "* Entender a codificação superdensa usando estados emaranhados. \n",
    "* Entender o uso de estados emaranhados para o teletransporte quântico\n",
    "\n",
    "__Avaliação__\n",
    "\n",
    "Tão importante quanto escrever um código que funcione corretamente é escrever um código legível, que seja fácil de entender e possa ser facilmente reutilizado por outros ou por você mesmo. Por isso a avaliação é separada da seguinte forma:\n",
    "\n",
    "* 60% conteúdo, se os resultados estão corretos.\n",
    "* 40% apresentação, código bem comentado, cédulas texto bem escritas.\n",
    "\n",
    "__Referências:__\n",
    "1. https://learn.qiskit.org/course/ch-states/representing-qubit-states\n",
    "2. https://learn.qiskit.org/course/ch-states/single-qubit-gates\n",
    "3. https://qiskit.org/documentation/apidoc/visualization.html\n",
    "4. https://youtu.be/GSsElSQgMbU\n",
    "5. https://learn.qiskit.org/course/ch-algorithms/superdense-coding\n",
    "6. Michael A. Nielsen e Isaac L. Chuang, Computação quântica e informação quântica\n",
    "\n",
    "\n",
    "### Tarefa 0\n",
    "Importe as bibliotecas necessárias."
   ]
  },
  {
   "cell_type": "code",
   "execution_count": null,
   "metadata": {},
   "outputs": [],
   "source": [
    "#Seu código aqui (se precisar use mais de uma célula)"
   ]
  },
  {
   "attachments": {},
   "cell_type": "markdown",
   "metadata": {},
   "source": [
    "\n",
    "### Tarefa 1: \n",
    "O exemplo mais simples de um estado emaranhado é o estado \n",
    "$$\n",
    "    |\\beta_{00}\\rangle = \\frac{1}{\\sqrt{2}} (|00\\rangle + |11\\rangle).\n",
    "$$\n",
    "Construa um circuito quântico que gere este estado e execute-o em um simulador.\n"
   ]
  },
  {
   "cell_type": "code",
   "execution_count": null,
   "metadata": {},
   "outputs": [],
   "source": [
    "#Seu código aqui (se precisar use mais de uma célula)"
   ]
  },
  {
   "attachments": {},
   "cell_type": "markdown",
   "metadata": {},
   "source": [
    "### Tarefa 2:\n",
    "Os seguintes quatro estados emaranhados\n",
    "$$\n",
    "\\begin{align}\n",
    "    |\\beta_{00}\\rangle  &= \\frac{1}{\\sqrt{2}} (|00\\rangle + |11\\rangle)\\\\\n",
    "    |\\beta_{01}\\rangle &= \\frac{1}{\\sqrt{2}} (|01\\rangle + |10\\rangle)\\\\\n",
    "    |\\beta_{10}\\rangle &= \\frac{1}{\\sqrt{2}} (|00\\rangle - |11\\rangle)\\\\\n",
    "    |\\beta_{11}\\rangle &= \\frac{1}{\\sqrt{2}} (|01\\rangle - |10\\rangle)\n",
    "\\end{align}\n",
    "$$ \n",
    "formam uma base ortonormal para um sistema de dois q-bits. Mostre que é possível obter cada um dos $|\\beta_{ij}\\rangle$ a partir do $|\\beta_{00}\\rangle$ utilizando apenas uma porta lógica de um q-bit.\n"
   ]
  },
  {
   "attachments": {},
   "cell_type": "markdown",
   "metadata": {},
   "source": [
    "Sua resposta aqui"
   ]
  },
  {
   "attachments": {},
   "cell_type": "markdown",
   "metadata": {},
   "source": [
    "### Tarefa 3: Código super-denso\n",
    "\n",
    "Considere que Alice e Bob, espacialmente separados, compartilham um estado emaranhado no estado $|\\beta_{00}\\rangle$, cada um possuindo um dos q-bit. Mostre que Alice consegue enviar 2 bits de informação clássica a Bob enviado seu q-bit. Dica: (Utilize o resultado da Tarefa 2) "
   ]
  },
  {
   "attachments": {},
   "cell_type": "markdown",
   "metadata": {},
   "source": [
    "sua reposta aqui"
   ]
  },
  {
   "attachments": {},
   "cell_type": "markdown",
   "metadata": {},
   "source": [
    "### Tarefa 4:\n",
    "\n",
    "Construa um circuito quântico simulando o processo estudado nas tarefas 2 e 3. Sorteie dois bits de informação clássica, aplique a porta de 1 q-bit adequada no q-bit de Alice. Depois considere que Alice enviou se q-bit para Bob, que poderá utilizar então portas de dois q-bits para descobrir os 2 bits de informação clássica enviados por Alice."
   ]
  },
  {
   "cell_type": "code",
   "execution_count": 1,
   "metadata": {},
   "outputs": [],
   "source": [
    "#Seu código aqui (se precisar use mais de uma célula)\n"
   ]
  },
  {
   "attachments": {},
   "cell_type": "markdown",
   "metadata": {},
   "source": [
    "## Parte 2: Teletransporte quântico\n",
    "\n",
    "### Tarefa 5:\n",
    "\n",
    "Considere que Alice compartilha com Bob dois q-bits no estado emaranhado $|\\beta_{00}\\rangle$. Além disso, Alice dispõe de outro q-bit em um estado desconhecido $|\\psi\\rangle$. Mostre que é possível Alice teletransportar o estado $|\\psi\\rangle$ para Bob utilizando apenas portas locais (i.e. portas que atuam apenas nos seus q-bits), o estado emaranhado $|\\beta_{00}\\rangle$ e dois bits de comunicação clássica.\n",
    "\n",
    "Note que apenas o estado do q-bit de Alice é teletransportado para o q-bit de Bob. Não há envio de q-bits. \n"
   ]
  },
  {
   "attachments": {},
   "cell_type": "markdown",
   "metadata": {},
   "source": [
    "sua resposta aqui"
   ]
  },
  {
   "attachments": {},
   "cell_type": "markdown",
   "metadata": {},
   "source": [
    "### Tarefa 6: \n",
    "\n",
    "Construa um circuito que simule o processo de teletransporte do estado quântico da Tarefa 5. Sorteie um estado $|\\psi\\rangle$, execute o circuito e verifique que o estado do q-bit de Alice foi realmente teletransportado para o q-bit de Bob."
   ]
  },
  {
   "cell_type": "code",
   "execution_count": null,
   "metadata": {},
   "outputs": [],
   "source": [
    "#Seu código aqui (se precisar use mais de uma célula)\n",
    "\n"
   ]
  }
 ],
 "metadata": {
  "kernelspec": {
   "display_name": "qhack2",
   "language": "python",
   "name": "python3"
  },
  "language_info": {
   "codemirror_mode": {
    "name": "ipython",
    "version": 3
   },
   "file_extension": ".py",
   "mimetype": "text/x-python",
   "name": "python",
   "nbconvert_exporter": "python",
   "pygments_lexer": "ipython3",
   "version": "3.8.16"
  },
  "orig_nbformat": 4
 },
 "nbformat": 4,
 "nbformat_minor": 2
}
