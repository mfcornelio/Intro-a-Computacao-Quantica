{
 "cells": [
  {
   "attachments": {},
   "cell_type": "markdown",
   "metadata": {},
   "source": [
    "# Exercício 2:\n",
    "\n",
    "__Objetivos:__  As tarefas deste exercício são pensadas como um primeiro contato do estudante com programação para computação quântica utilizando a biblioteca qiskit. Particularmente, ao completar esta sequência de tarefas, o estudante será capaz de:\n",
    "\n",
    "* Inicializar e importar as bibliotecas necessárias\n",
    "* Escolher adequadamente um simulador local para executar o circuito a ser construído\n",
    "* Construir um circuito quântico muito simples\n",
    "* Visualizar dos resultados das medidas do circuito de diferentes maneiras\n",
    "* Obter informação sobre a computação através dos resultados das medidas em um computador quântico.\n",
    "\n",
    "__Avaliação__\n",
    "\n",
    "Tão importante quanto escrever um código que funcione corretamente é escrever um código legível, que seja fácil de entender e possa ser facilmente reutilizado por outros ou por você mesmo. Por isso a avaliação é separada da seguinte forma:\n",
    "\n",
    "* 60% conteúdo, se os resultados estão corretos.\n",
    "* 40% apresentação, código bem comentado, cédulas texto bem escritas.\n",
    "\n",
    "__Referências:__\n",
    "1. https://learn.qiskit.org/course/ch-states/representing-qubit-states\n",
    "2. https://learn.qiskit.org/course/ch-states/single-qubit-gates\n",
    "3. https://qiskit.org/documentation/apidoc/visualization.html\n",
    "\n",
    "### Tarefa 0:\n",
    "Importe as bibliotecas necessárias."
   ]
  },
  {
   "cell_type": "code",
   "execution_count": null,
   "metadata": {},
   "outputs": [],
   "source": [
    "#Seu código aqui (se precisar use mais de uma célula)"
   ]
  },
  {
   "cell_type": "markdown",
   "metadata": {},
   "source": [
    "\n",
    "## Parte 1: Representação na esfera de Bloch\n",
    "\n",
    "### Tarefa 1:\n",
    "Considere um estado quântico $|\\psi\\rangle$ de um q-bit dado por:\n",
    "\n",
    "$$ |\\psi\\rangle = c_0 |0\\rangle + c_1 |1\\rangle ,$$ \n",
    "\n",
    "onde $ c_0 $ e $ c_1 $ são coeficientes complexos. Mostre que este estado pode ser escrito em termos de dois ângulos na forma:\n",
    "\n",
    "$$ |\\psi\\rangle = \\cos \\frac{\\theta}{2} |0\\rangle + e^{\\imath \\varphi} \\sin \\frac{\\theta}{2} |1\\rangle. $$\n",
    "\n"
   ]
  },
  {
   "attachments": {},
   "cell_type": "markdown",
   "metadata": {},
   "source": [
    "Sua resposta aqui"
   ]
  },
  {
   "attachments": {},
   "cell_type": "markdown",
   "metadata": {},
   "source": [
    "### Tarefa 2\n",
    "\n",
    "Escreva um código que sorteia um estado aleatório de um q-bit, imprima o estado, seu vetor de Bloch e a sua representação na esfera de Bloch deste estado.  "
   ]
  },
  {
   "cell_type": "code",
   "execution_count": 1,
   "metadata": {},
   "outputs": [],
   "source": [
    "#Seu código aqui (se precisar use mais de uma célula)\n"
   ]
  },
  {
   "attachments": {},
   "cell_type": "markdown",
   "metadata": {},
   "source": [
    "## Parte 2: Rotações na esfera de Bloch\n",
    "\n",
    "### Tarefa 3:\n",
    "Mostre que o operador unitário $R_z(\\alpha) = \\exp^{-\\imath \\frac{\\alpha}{2} Z} $, quando aplicado a um estado qualquer de 1 q-bit, faz o estado girar de um ângulo $\\alpha$ na esfera de Bloch ao redor do eixo $\\hat{z}$. O que você pode dizer sobre uma rotação ao redor de uma direção qualquer?"
   ]
  },
  {
   "cell_type": "markdown",
   "metadata": {},
   "source": []
  },
  {
   "attachments": {},
   "cell_type": "markdown",
   "metadata": {},
   "source": [
    "### Tarefa 4\n",
    "Um estado qualquer de 1 q-bit, pode ser inicializado a partir do estado $|0\\rangle$ com uma rotação em torno de eixo $\\hat{x}$ ou $\\hat{y}$, seguida de uma rotação no eixo $\\hat{z}$. Sorteie um estado aleatoriamente e use este método para produzi-lo com um circuito quântico a partir do estado padrão de inicialização do circuito $|0\\rangle$.  "
   ]
  },
  {
   "cell_type": "code",
   "execution_count": 2,
   "metadata": {},
   "outputs": [],
   "source": [
    "#Seu código aqui (se precisar use mais de uma célula)\n",
    "\n"
   ]
  },
  {
   "attachments": {},
   "cell_type": "markdown",
   "metadata": {},
   "source": [
    "\n",
    "### Tarefa 5:\n",
    "Considere um estado arbitrário dado por\n",
    "\n",
    "$$ |\\psi\\rangle = \\cos\\frac{\\theta}{2}(|0\\rangle + e^{\\imath \\varphi} \\sin\\frac{\\theta}{2} |1\\rangle). $$\n",
    "\n",
    "Mostre que as componentes $x,y$ e $z$ do vetor que representa $ |\\psi\\rangle $ na esfera de Bloch correspondem as valores médios de spin nas direções $x,y$ e $z$, respectivamente. \n"
   ]
  },
  {
   "attachments": {},
   "cell_type": "markdown",
   "metadata": {},
   "source": [
    "Sua resposta aqui"
   ]
  },
  {
   "attachments": {},
   "cell_type": "markdown",
   "metadata": {},
   "source": [
    "### Tarefa 6: \n",
    "a) Sorteie um estado aleatoriamente e calcule seu vetor de Bloch.\n",
    "b) use o método da tarefa 4 para produzi-lo em um circuito quântico.\n",
    "c) save o estado produzido e certifique-se ele está correto.\n",
    "d) complemente o circuíto de maneira a realizar a medida dos valores médios de spin nas $x,y$ e $z$ (sâo três circuitos).\n",
    "e) Verifique se os resultados medidos coincidem com o calculado no item a)\n"
   ]
  },
  {
   "cell_type": "code",
   "execution_count": null,
   "metadata": {},
   "outputs": [],
   "source": [
    "#Seu código aqui (se precisar use mais de uma célula)"
   ]
  }
 ],
 "metadata": {
  "kernelspec": {
   "display_name": "qhack2",
   "language": "python",
   "name": "python3"
  },
  "language_info": {
   "codemirror_mode": {
    "name": "ipython",
    "version": 3
   },
   "file_extension": ".py",
   "mimetype": "text/x-python",
   "name": "python",
   "nbconvert_exporter": "python",
   "pygments_lexer": "ipython3",
   "version": "3.8.16"
  },
  "orig_nbformat": 4
 },
 "nbformat": 4,
 "nbformat_minor": 2
}
