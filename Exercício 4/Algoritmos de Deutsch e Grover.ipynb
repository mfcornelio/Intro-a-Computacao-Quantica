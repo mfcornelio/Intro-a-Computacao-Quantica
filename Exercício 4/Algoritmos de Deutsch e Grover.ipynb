{
 "cells": [
  {
   "attachments": {},
   "cell_type": "markdown",
   "metadata": {},
   "source": [
    "# Exercício 4: Algoritmos de Deutsch and Grover\n",
    "\n",
    "\n",
    "__Objetivos:__  Ao completar esta sequência de tarefas, o estudante será capaz de:\n",
    "\n",
    "* Entender como algoritmos de clássicos podem ser convertidos em quânticos\n",
    "* Entender o uso do algoritmo de Deutsch.\n",
    "* Entender o uso do algoritmo de Grover\n",
    "\n",
    "__Avaliação__\n",
    "\n",
    "Tão importante quanto escrever um código que funcione corretamente é escrever um código legível, que seja fácil de entender e possa ser facilmente reutilizado por outros ou por você mesmo. Por isso a avaliação é separada da seguinte forma:\n",
    "\n",
    "* 60% conteúdo, se os resultados estão corretos.\n",
    "* 40% apresentação, código bem comentado, cédulas texto bem escritas.\n",
    "\n",
    "__Referências:__\n",
    "1. https://learn.qiskit.org/course/ch-states/representing-qubit-states\n",
    "2. https://learn.qiskit.org/course/ch-states/single-qubit-gates\n",
    "3. https://qiskit.org/documentation/apidoc/visualization.html\n",
    "4. https://learn.qiskit.org/course/introduction/grovers-search-algorithm\n",
    "5. https://learn.qiskit.org/course/ch-algorithms/deutsch-jozsa-algorithm\n",
    "6. Michael A. Nielsen e Isaac L. Chuang, Computação quântica e informação quântica\n",
    "\n",
    "\n",
    "### Tarefa 0\n",
    "Importe as bibliotecas necessárias."
   ]
  },
  {
   "cell_type": "code",
   "execution_count": 2,
   "metadata": {},
   "outputs": [],
   "source": [
    "import numpy as np\n",
    "from qiskit import QuantumCircuit, Aer\n",
    "from qiskit.visualization import plot_histogram\n",
    "#Seu código aqui (se precisar use mais de uma célula)\n",
    "Aer.backends()\n",
    "backend = Aer.get_backend('aer_simulator')"
   ]
  },
  {
   "attachments": {},
   "cell_type": "markdown",
   "metadata": {},
   "source": [
    "\n",
    "### Tarefa 1: \n",
    "\n",
    "O circuito abaixo (conhecido como Full Adder) realiza a adição de dois bits em um computador clássico. Com base nele, construa um circuito quântico que realiza a mesma operação usando as portas CNOT e Toffoli. (Note que a porta Toffoli pode ser utilizada para simular diversas portas clássicas de forma reversível)\n",
    "\n",
    "<figure align='center'>\n",
    "    <img src=\"fulladder.gif\" style='width:30%'>\n",
    "    <figcaption>Figura de 'https://en.wikipedia.org/wiki/Adder_(electronics)'</figcaption>\n",
    "</figure>\n",
    "\n",
    "\n",
    "\n"
   ]
  },
  {
   "cell_type": "code",
   "execution_count": null,
   "metadata": {},
   "outputs": [],
   "source": [
    "#Seu código aqui (se precisar use mais de uma célula)\n"
   ]
  },
  {
   "attachments": {},
   "cell_type": "markdown",
   "metadata": {},
   "source": [
    "### Tarefa 2:\n",
    "\n",
    "Considere uma função sobre os conjunto das sequências binárias de tamanho $N$ em ${0,1}$: \n",
    "\n",
    "$$ f(x):\\{0,1\\}^N\\rightarrow\\{0,1\\} $$\n",
    "\n",
    "Mostre que está função pode ser calculada em um computador quântico através de um operador unitário $U_f$ na forma do circuito abaixo::\n",
    "\n",
    "<figure align='center'>\n",
    "    <img src=\"quantum.png\" style='width:30%'>\n",
    "    <figcaption>Figura de 'https://avalon-lang.readthedocs.io/en/latest/algorithms/deutsch.html'</figcaption>\n",
    "</figure>\n",
    "\n",
    "onde $x$ é uma sequência binária de tamanho $N$ e $y$ é um bit arbitrário.\n"
   ]
  },
  {
   "attachments": {},
   "cell_type": "markdown",
   "metadata": {},
   "source": [
    "Sua resposta aqui"
   ]
  },
  {
   "attachments": {},
   "cell_type": "markdown",
   "metadata": {},
   "source": [
    "### Tarefa 3:\n",
    "\n",
    "Na célula abaixo, a função oracle1 retorna um operador $U_f$ que calcula uma função $f(x):\\{0,1\\}\\rightarrow\\{0,1\\}$ nos termos da Tarefa 2. Use o algoritmo de Deutsch para decidir se a função $f$ é constante ou balanceada utilizando apenas uma chamada da função oracle1 em seu código. (Note que cada vez que rodar a célula abaixo, a função $f$ muda)\n"
   ]
  },
  {
   "cell_type": "code",
   "execution_count": null,
   "metadata": {},
   "outputs": [],
   "source": [
    "\n",
    "seed = np.random.randint(4)\n",
    "#Está função recebe circuito de 2 q-bits, aplica o operador U_f, e retorna o circuito\n",
    "def oracle1(qc: QuantumCircuit) -> QuantumCircuit:   \n",
    "    if seed == 0:\n",
    "        qc.x(1)\n",
    "    if seed == 1:\n",
    "        qc.cnot(0,1)\n",
    "    if seed == 2:\n",
    "        qc.x(0)\n",
    "        qc.cnot(0,1)\n",
    "    return qc\n"
   ]
  },
  {
   "cell_type": "code",
   "execution_count": null,
   "metadata": {},
   "outputs": [],
   "source": [
    "#Seu código aqui (se precisar use mais de uma célula)"
   ]
  },
  {
   "attachments": {},
   "cell_type": "markdown",
   "metadata": {},
   "source": [
    "### Tarefa 4:\n",
    "\n",
    "Seja $f$ uma função teste sobre o conjunto das sequências de dois bits $\\{00,01,10,11\\}$ no conjunto $\\{0,1\\}$. Esta função retorna 1 (Verdadeiro) para apenas um item do domínio (o conjunto das sequências de dois bits). Como está função pode ser implementada em um computador quântico através de um operado $U_f$, pelo método da Tarefa 2, mostre que é possível determinar qual item retorna verdadeiro com apenas uma chamada do operador $U_f$ com probabilidade de sucesso igual a 1. \n",
    "\n"
   ]
  },
  {
   "attachments": {},
   "cell_type": "markdown",
   "metadata": {},
   "source": [
    "### Tarefa 5:\n",
    "\n",
    "O operador $U_f$ da tarefa 4 é implementado pela função oracle2 da célula abaixo. Construa um circuito quântico utilize esta função como o oracle no algoritmo de Grover para descobrir qual sequência de dois bits retorna o valor verdadeiro. Rode o circuito no simulador e obtenha esta sequência a partir dos resultados das medidas. \n"
   ]
  },
  {
   "attachments": {},
   "cell_type": "markdown",
   "metadata": {},
   "source": [
    "Sua resposta aqui"
   ]
  },
  {
   "cell_type": "code",
   "execution_count": null,
   "metadata": {},
   "outputs": [],
   "source": [
    "seed = np.random.randint(4)\n",
    "#Está função recebe circuito de 3 q-bits, aplica o operador U_f, e retorna o circuito\n",
    "def oracle2(qc: QuantumCircuit) -> QuantumCircuit:   \n",
    "    qc.ccx(0,1,2,seed)\n",
    "    return qc\n"
   ]
  },
  {
   "cell_type": "code",
   "execution_count": null,
   "metadata": {},
   "outputs": [],
   "source": [
    "#Seu código aqui (se precisar use mais de uma célula)\n"
   ]
  },
  {
   "attachments": {},
   "cell_type": "markdown",
   "metadata": {},
   "source": [
    "### Tarefa 6:\n",
    "\n",
    "Agora considere uma função $f$ sobre o conjunto das sequências de 8 bits em um bit, onde $f(x)=1$ para a apenas uma sequência. Calcule quantas iterações do algoritmo de Grover são necessárias para se encontrar esta sequência de 8 bits. Use a função oracle3 abaixo como a função oráculo a ser utilizada no algoritmo de Grover. Construa o circuito quântico com o número de iterações do operador oráculo e operador de Grover necessárias. Obtenha então a sequências de bits com base na execução do algoritmo no computador quântico e resultados das medidas obtidas.  "
   ]
  },
  {
   "cell_type": "code",
   "execution_count": 30,
   "metadata": {},
   "outputs": [],
   "source": [
    "#Esta função recebe um c\n",
    "n_bits = 8\n",
    "seed = np.random.randint(2**n_bits)\n",
    "binary = bin(seed)[2:].zfill(n_bits)\n",
    "\n",
    "#Está função recebe circuito de 9 q-bits, aplica o operador oráculo U_f, e retorna o circuito\n",
    "def oracle3(qc: QuantumCircuit) -> QuantumCircuit:\n",
    "    for i in range(n_bits):\n",
    "        if binary[i] == '1':\n",
    "            qc.x(i)\n",
    "    qc.mcx(list(range(n_bits)), n_bits,mode='noancilla')\n",
    "    for i in range(n_bits):\n",
    "        if binary[i] == '1':\n",
    "            qc.x(i)\n",
    "    return qc\n"
   ]
  },
  {
   "cell_type": "code",
   "execution_count": null,
   "metadata": {},
   "outputs": [],
   "source": [
    "#Seu código aqui (se precisar use mais de uma célula)\n",
    "\n"
   ]
  },
  {
   "attachments": {},
   "cell_type": "markdown",
   "metadata": {},
   "source": [
    "## Desafio: \n",
    "\n",
    "Rode o seu código da Tarefa 5 em um computador quântico real."
   ]
  }
 ],
 "metadata": {
  "kernelspec": {
   "display_name": "qhack2",
   "language": "python",
   "name": "python3"
  },
  "language_info": {
   "codemirror_mode": {
    "name": "ipython",
    "version": 3
   },
   "file_extension": ".py",
   "mimetype": "text/x-python",
   "name": "python",
   "nbconvert_exporter": "python",
   "pygments_lexer": "ipython3",
   "version": "3.8.16"
  },
  "orig_nbformat": 4
 },
 "nbformat": 4,
 "nbformat_minor": 2
}
