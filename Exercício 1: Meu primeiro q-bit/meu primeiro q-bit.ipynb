{
 "cells": [
  {
   "attachments": {},
   "cell_type": "markdown",
   "metadata": {},
   "source": [
    "# Exercício 1\n",
    "\n",
    "__Objetivos:__  As tarefas deste exercício são pensadas como um primeiro contato do estudante com programação para computação quântica utilizando a biblioteca qiskit. Particularmente, ao completar esta sequência de tarefas, o estudante será capaz de:\n",
    "\n",
    "* Inicializar e importar as bibliotecas necessárias\n",
    "* Escolher adequadamente um simulador local para executar o circuito a ser construído\n",
    "* Construir um circuito quântico muito simples\n",
    "* Visualizar dos resultados das medidas do circuito de diferentes maneiras\n",
    "* Obter informação sobre a computação através dos resultados das medidas em um computador quântico.\n",
    "\n",
    "__Avaliação__\n",
    "\n",
    "Tão importante quanto escrever um código que funcione corretamente é escrever um código legível, que seja fácil de entender e possa ser facilmente reutilizado por outros ou por você mesmo. Por isso a avaliação é separada da seguinte forma:\n",
    "\n",
    "* 60% conteúdo, se os resultados estão corretos.\n",
    "* 40% apresentação, código bem comentado, cédulas texto bem escritas.\n",
    "\n",
    "## Parte 1: Inicializado qiskit\n",
    "\n",
    "### Tarefa 1:\n",
    " Usa a próxima célula de código para importar as bibliotecas básicas da Qiskit que são necessárias para construir, executar num simulador local e visualizar os resultados.\n",
    "\n"
   ]
  },
  {
   "cell_type": "code",
   "execution_count": 1,
   "metadata": {},
   "outputs": [],
   "source": [
    "#Seu código aqui (se precisar use mais de uma célula)\n"
   ]
  },
  {
   "attachments": {},
   "cell_type": "markdown",
   "metadata": {},
   "source": [
    "### Tarefa 2:\n",
    "Selecione um simulador apropriado para o circuito que vai construir."
   ]
  },
  {
   "cell_type": "code",
   "execution_count": 2,
   "metadata": {},
   "outputs": [],
   "source": [
    "#Seu código aqui (se precisar use mais de uma célula)\n",
    "\n"
   ]
  },
  {
   "attachments": {},
   "cell_type": "markdown",
   "metadata": {},
   "source": [
    "## Parte 2: Seu primeiro q-bit\n",
    "\n",
    "### Tarefa 3:\n",
    "Considere o estado:\n",
    "\n",
    "$$ |+\\rangle = \\frac{1}{\\sqrt 2}(|0\\rangle + |1\\rangle) $$\n",
    "\n",
    "Construa um circuito quântico que tenha o estado $ |+\\rangle $ como saída. Obtenha o estado de saída da execução do circuito quântico no simulador e imprima sua representação em LaTeX e na esfera de Bloch.\n"
   ]
  },
  {
   "cell_type": "code",
   "execution_count": null,
   "metadata": {},
   "outputs": [],
   "source": [
    "#Seu código aqui (se precisar use mais de uma célula)"
   ]
  },
  {
   "attachments": {},
   "cell_type": "markdown",
   "metadata": {},
   "source": [
    "### Tarefa 4: \n",
    "Do circuito da tarefa 3, obtenha a contagem de medidas na base computacional $ \\{|0\\rangle, |1\\rangle \\} $ e faça o histograma dos resultados.  "
   ]
  },
  {
   "cell_type": "code",
   "execution_count": null,
   "metadata": {},
   "outputs": [],
   "source": [
    "#Seu código aqui (se precisar use mais de uma célula)"
   ]
  },
  {
   "attachments": {},
   "cell_type": "markdown",
   "metadata": {},
   "source": [
    "### Tarefa 5\n",
    "É possível deduzir que o estado de saída é o estado $ |+\\rangle $ a partir das medidas da Tarefa 4? Explique.   "
   ]
  },
  {
   "attachments": {},
   "cell_type": "markdown",
   "metadata": {},
   "source": [
    "Sua reposta aqui."
   ]
  },
  {
   "attachments": {},
   "cell_type": "markdown",
   "metadata": {},
   "source": [
    "### Tarefa 6\n",
    "Construa um novo circuito que gere o estado $ |+\\rangle $ ou o estado $ |-\\rangle$ aleatóriamente."
   ]
  },
  {
   "cell_type": "code",
   "execution_count": null,
   "metadata": {},
   "outputs": [],
   "source": [
    "#Seu código aqui (se precisar use mais de uma célula)"
   ]
  },
  {
   "attachments": {},
   "cell_type": "markdown",
   "metadata": {},
   "source": [
    "### Tarefa 7\n",
    "Complete o circuito da Tarefa 6 fazendo com que o resultado da medida seja $|0\\rangle$ se o estado gerado for $|+\\rangle $, ou $|1\\rangle$ se o estado gerado for $|-\\rangle$. Imprima uma mensagem dizendo qual foi o estado gerado pelo circuito."
   ]
  },
  {
   "cell_type": "code",
   "execution_count": null,
   "metadata": {},
   "outputs": [],
   "source": [
    "#Seu código aqui (se precisar use mais de uma célula)"
   ]
  }
 ],
 "metadata": {
  "kernelspec": {
   "display_name": "qhack2",
   "language": "python",
   "name": "python3"
  },
  "language_info": {
   "codemirror_mode": {
    "name": "ipython",
    "version": 3
   },
   "file_extension": ".py",
   "mimetype": "text/x-python",
   "name": "python",
   "nbconvert_exporter": "python",
   "pygments_lexer": "ipython3",
   "version": "3.8.16"
  },
  "orig_nbformat": 4
 },
 "nbformat": 4,
 "nbformat_minor": 2
}
